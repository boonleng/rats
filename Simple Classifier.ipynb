{
 "cells": [
  {
   "cell_type": "code",
   "execution_count": 1,
   "metadata": {},
   "outputs": [],
   "source": [
    "import numpy as np\n",
    "import pandas as pd\n",
    "from sklearn.compose import ColumnTransformer\n",
    "from sklearn.preprocessing import LabelEncoder, OneHotEncoder, StandardScaler\n",
    "from sklearn.model_selection import train_test_split"
   ]
  },
  {
   "cell_type": "code",
   "execution_count": 2,
   "metadata": {},
   "outputs": [],
   "source": [
    "# Importing the dataset\n",
    "dataset = pd.read_csv('blob/Churn_Modelling.csv')\n",
    "Xo = dataset.iloc[:, 3:13].values\n",
    "y = dataset.iloc[:, 13].values\n",
    "\n",
    "# Encoding categorical data\n",
    "\n",
    "# Country is in 2nd column (1). Turn that into 2nd + 3rd columns (1, 2)\n",
    "country_onehot = ColumnTransformer([(\"dummy_col\", OneHotEncoder(categories=[['France', 'Spain', 'Germany']]), [1])])\n",
    "xx = country_onehot.fit_transform(Xo)\n",
    "X = np.insert(Xo, 2, 0, axis=1)\n",
    "X[:, 1:3] = xx[:, 1:3]\n",
    "\n",
    "# Gender is now at 4th column\n",
    "labelencoder_gender = LabelEncoder()\n",
    "X[:, 3] = labelencoder_gender.fit_transform(X[:, 3])\n",
    "\n",
    "# Convert into float array\n",
    "X = X.astype(np.float64)\n",
    "\n",
    "# Splitting the dataset into the Training set and Test set\n",
    "X_train, X_test, y_train, y_test = train_test_split(X, y, test_size = 0.2, random_state = 0)\n",
    "\n",
    "# Feature Scaling\n",
    "sc = StandardScaler()\n",
    "X_train = sc.fit_transform(X_train)\n",
    "X_test = sc.transform(X_test)"
   ]
  },
  {
   "cell_type": "code",
   "execution_count": 4,
   "metadata": {},
   "outputs": [
    {
     "name": "stderr",
     "output_type": "stream",
     "text": [
      "/usr/local/Cellar/python/3.7.2/Frameworks/Python.framework/Versions/3.7/lib/python3.7/importlib/_bootstrap.py:219: RuntimeWarning: compiletime version 3.6 of module 'tensorflow.python.framework.fast_tensor_util' does not match runtime version 3.7\n",
      "  return f(*args, **kwds)\n"
     ]
    }
   ],
   "source": [
    "import tensorflow as tf"
   ]
  },
  {
   "cell_type": "code",
   "execution_count": 26,
   "metadata": {},
   "outputs": [],
   "source": [
    "model = tf.keras.Sequential([\n",
    "    tf.keras.layers.Dense(6, kernel_initializer='uniform', activation='relu'),\n",
    "    tf.keras.layers.Dense(6, kernel_initializer='uniform', activation='relu'),\n",
    "    tf.keras.layers.Dense(1, kernel_initializer='uniform', activation='sigmoid')\n",
    "])"
   ]
  },
  {
   "cell_type": "code",
   "execution_count": 27,
   "metadata": {},
   "outputs": [],
   "source": [
    "# model.compile(optimizer=tf.train.AdamOptimizer(0.001),\n",
    "#               loss='categorical_crossentropy',\n",
    "#               metrics=['accuracy'])\n",
    "\n",
    "# model.compile(optimizer='adam',\n",
    "#               loss='binary_crossentropy',\n",
    "#               metrics=['accuracy'])\n",
    "\n",
    "model.compile(optimizer=tf.train.AdamOptimizer(0.001),\n",
    "              loss='binary_crossentropy',\n",
    "              metrics=['accuracy'])"
   ]
  },
  {
   "cell_type": "code",
   "execution_count": 28,
   "metadata": {},
   "outputs": [
    {
     "name": "stdout",
     "output_type": "stream",
     "text": [
      "Epoch 1/10\n",
      "8000/8000 [==============================] - 1s 158us/step - loss: 0.4918 - acc: 0.7952\n",
      "Epoch 2/10\n",
      "8000/8000 [==============================] - 1s 115us/step - loss: 0.4295 - acc: 0.7960\n",
      "Epoch 3/10\n",
      "8000/8000 [==============================] - 1s 115us/step - loss: 0.4244 - acc: 0.7960\n",
      "Epoch 4/10\n",
      "8000/8000 [==============================] - 1s 119us/step - loss: 0.4202 - acc: 0.8052\n",
      "Epoch 5/10\n",
      "8000/8000 [==============================] - 1s 118us/step - loss: 0.4172 - acc: 0.8222\n",
      "Epoch 6/10\n",
      "8000/8000 [==============================] - 1s 120us/step - loss: 0.4153 - acc: 0.8280\n",
      "Epoch 7/10\n",
      "8000/8000 [==============================] - 1s 128us/step - loss: 0.4136 - acc: 0.8314\n",
      "Epoch 8/10\n",
      "8000/8000 [==============================] - 1s 124us/step - loss: 0.4124 - acc: 0.8325\n",
      "Epoch 9/10\n",
      "8000/8000 [==============================] - 1s 125us/step - loss: 0.4116 - acc: 0.8315 0s - loss: 0.4078\n",
      "Epoch 10/10\n",
      "8000/8000 [==============================] - 1s 124us/step - loss: 0.4104 - acc: 0.8322\n"
     ]
    },
    {
     "data": {
      "text/plain": [
       "<tensorflow.python.keras.callbacks.History at 0x12f990e48>"
      ]
     },
     "execution_count": 28,
     "metadata": {},
     "output_type": "execute_result"
    }
   ],
   "source": [
    "model.fit(X_train, y_train, batch_size=10, epochs=10)"
   ]
  },
  {
   "cell_type": "code",
   "execution_count": null,
   "metadata": {},
   "outputs": [],
   "source": []
  }
 ],
 "metadata": {
  "kernelspec": {
   "display_name": "Python 3",
   "language": "python",
   "name": "python3"
  },
  "language_info": {
   "codemirror_mode": {
    "name": "ipython",
    "version": 3
   },
   "file_extension": ".py",
   "mimetype": "text/x-python",
   "name": "python",
   "nbconvert_exporter": "python",
   "pygments_lexer": "ipython3",
   "version": "3.7.2"
  }
 },
 "nbformat": 4,
 "nbformat_minor": 2
}
