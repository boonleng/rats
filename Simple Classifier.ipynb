{
 "cells": [
  {
   "cell_type": "code",
   "execution_count": 1,
   "metadata": {},
   "outputs": [],
   "source": [
    "import numpy as np\n",
    "import pandas as pd\n",
    "from sklearn.compose import ColumnTransformer\n",
    "from sklearn.preprocessing import LabelEncoder, OneHotEncoder, StandardScaler\n",
    "from sklearn.model_selection import train_test_split"
   ]
  },
  {
   "cell_type": "code",
   "execution_count": 2,
   "metadata": {},
   "outputs": [],
   "source": [
    "# Importing the dataset\n",
    "dataset = pd.read_csv('blob/Churn_Modelling.csv')\n",
    "Xo = dataset.iloc[:, 3:13].values\n",
    "y = dataset.iloc[:, 13].values\n",
    "\n",
    "# Encoding categorical data\n",
    "\n",
    "# Country is in 2nd column (1). Turn that into 2nd + 3rd columns (1, 2)\n",
    "country_onehot = ColumnTransformer([(\"dummy_col\", OneHotEncoder(categories=[['France', 'Spain', 'Germany']]), [1])])\n",
    "xx = country_onehot.fit_transform(Xo)\n",
    "X = np.insert(Xo, 2, 0, axis=1)\n",
    "X[:, 1:3] = xx[:, 1:3]\n",
    "\n",
    "# Gender is now at 4th column\n",
    "labelencoder_gender = LabelEncoder()\n",
    "X[:, 3] = labelencoder_gender.fit_transform(X[:, 3])\n",
    "\n",
    "# Convert into float array\n",
    "X = X.astype(np.float64)\n",
    "\n",
    "# Splitting the dataset into the Training set and Test set\n",
    "X_train, X_test, y_train, y_test = train_test_split(X, y, test_size = 0.2, random_state = 0)\n",
    "\n",
    "# Feature Scaling\n",
    "sc = StandardScaler()\n",
    "X_train = sc.fit_transform(X_train)\n",
    "X_test = sc.transform(X_test)"
   ]
  },
  {
   "cell_type": "code",
   "execution_count": 4,
   "metadata": {},
   "outputs": [
    {
     "name": "stderr",
     "output_type": "stream",
     "text": [
      "/usr/local/Cellar/python/3.7.2/Frameworks/Python.framework/Versions/3.7/lib/python3.7/importlib/_bootstrap.py:219: RuntimeWarning: compiletime version 3.6 of module 'tensorflow.python.framework.fast_tensor_util' does not match runtime version 3.7\n",
      "  return f(*args, **kwds)\n"
     ]
    }
   ],
   "source": [
    "import tensorflow as tf"
   ]
  },
  {
   "cell_type": "code",
   "execution_count": 26,
   "metadata": {},
   "outputs": [],
   "source": [
    "model = tf.keras.Sequential([\n",
    "    tf.keras.layers.Dense(6, kernel_initializer='uniform', activation='relu'),\n",
    "    tf.keras.layers.Dense(6, kernel_initializer='uniform', activation='relu'),\n",
    "    tf.keras.layers.Dense(1, kernel_initializer='uniform', activation='sigmoid')\n",
    "])"
   ]
  },
  {
   "cell_type": "code",
   "execution_count": 27,
   "metadata": {},
   "outputs": [],
   "source": [
    "# model.compile(optimizer=tf.train.AdamOptimizer(0.001),\n",
    "#               loss='categorical_crossentropy',\n",
    "#               metrics=['accuracy'])\n",
    "\n",
    "# model.compile(optimizer='adam',\n",
    "#               loss='binary_crossentropy',\n",
    "#               metrics=['accuracy'])\n",
    "\n",
    "model.compile(optimizer=tf.train.AdamOptimizer(0.001),\n",
    "              loss='binary_crossentropy',\n",
    "              metrics=['accuracy'])"
   ]
  },
  {
   "cell_type": "code",
   "execution_count": 29,
   "metadata": {},
   "outputs": [
    {
     "name": "stdout",
     "output_type": "stream",
     "text": [
      "Epoch 1/100\n",
      "8000/8000 [==============================] - 1s 115us/step - loss: 0.4091 - acc: 0.8349\n",
      "Epoch 2/100\n",
      "8000/8000 [==============================] - 1s 119us/step - loss: 0.4082 - acc: 0.8331\n",
      "Epoch 3/100\n",
      "8000/8000 [==============================] - 1s 118us/step - loss: 0.4072 - acc: 0.8342\n",
      "Epoch 4/100\n",
      "8000/8000 [==============================] - 1s 114us/step - loss: 0.4068 - acc: 0.8341\n",
      "Epoch 5/100\n",
      "8000/8000 [==============================] - 1s 116us/step - loss: 0.4053 - acc: 0.8345\n",
      "Epoch 6/100\n",
      "8000/8000 [==============================] - 1s 111us/step - loss: 0.4039 - acc: 0.8334\n",
      "Epoch 7/100\n",
      "8000/8000 [==============================] - 1s 121us/step - loss: 0.4023 - acc: 0.8352\n",
      "Epoch 8/100\n",
      "8000/8000 [==============================] - 1s 117us/step - loss: 0.4010 - acc: 0.8349\n",
      "Epoch 9/100\n",
      "8000/8000 [==============================] - 1s 113us/step - loss: 0.4000 - acc: 0.8352\n",
      "Epoch 10/100\n",
      "8000/8000 [==============================] - 1s 119us/step - loss: 0.3993 - acc: 0.8355\n",
      "Epoch 11/100\n",
      "8000/8000 [==============================] - 1s 117us/step - loss: 0.3991 - acc: 0.8355\n",
      "Epoch 12/100\n",
      "8000/8000 [==============================] - 1s 112us/step - loss: 0.3982 - acc: 0.8369\n",
      "Epoch 13/100\n",
      "8000/8000 [==============================] - 1s 116us/step - loss: 0.3976 - acc: 0.8354\n",
      "Epoch 14/100\n",
      "8000/8000 [==============================] - 1s 121us/step - loss: 0.3972 - acc: 0.8354\n",
      "Epoch 15/100\n",
      "8000/8000 [==============================] - 1s 115us/step - loss: 0.3967 - acc: 0.8364\n",
      "Epoch 16/100\n",
      "8000/8000 [==============================] - 1s 118us/step - loss: 0.3966 - acc: 0.8361\n",
      "Epoch 17/100\n",
      "8000/8000 [==============================] - 1s 113us/step - loss: 0.3960 - acc: 0.8365\n",
      "Epoch 18/100\n",
      "8000/8000 [==============================] - 1s 113us/step - loss: 0.3956 - acc: 0.8346\n",
      "Epoch 19/100\n",
      "8000/8000 [==============================] - 1s 112us/step - loss: 0.3950 - acc: 0.8374\n",
      "Epoch 20/100\n",
      "8000/8000 [==============================] - 1s 116us/step - loss: 0.3955 - acc: 0.8362\n",
      "Epoch 21/100\n",
      "8000/8000 [==============================] - 1s 117us/step - loss: 0.3952 - acc: 0.8361\n",
      "Epoch 22/100\n",
      "8000/8000 [==============================] - 1s 117us/step - loss: 0.3950 - acc: 0.8370\n",
      "Epoch 23/100\n",
      "8000/8000 [==============================] - 1s 126us/step - loss: 0.3948 - acc: 0.8364\n",
      "Epoch 24/100\n",
      "8000/8000 [==============================] - 1s 119us/step - loss: 0.3946 - acc: 0.8371\n",
      "Epoch 25/100\n",
      "8000/8000 [==============================] - 1s 115us/step - loss: 0.3943 - acc: 0.8351\n",
      "Epoch 26/100\n",
      "8000/8000 [==============================] - 1s 114us/step - loss: 0.3939 - acc: 0.8364\n",
      "Epoch 27/100\n",
      "8000/8000 [==============================] - 1s 122us/step - loss: 0.3945 - acc: 0.8376\n",
      "Epoch 28/100\n",
      "8000/8000 [==============================] - 1s 124us/step - loss: 0.3943 - acc: 0.8340\n",
      "Epoch 29/100\n",
      "8000/8000 [==============================] - 1s 125us/step - loss: 0.3943 - acc: 0.8361\n",
      "Epoch 30/100\n",
      "8000/8000 [==============================] - 1s 137us/step - loss: 0.3940 - acc: 0.8377\n",
      "Epoch 31/100\n",
      "8000/8000 [==============================] - 1s 120us/step - loss: 0.3941 - acc: 0.8375\n",
      "Epoch 32/100\n",
      "8000/8000 [==============================] - 1s 121us/step - loss: 0.3940 - acc: 0.8360\n",
      "Epoch 33/100\n",
      "8000/8000 [==============================] - 1s 112us/step - loss: 0.3936 - acc: 0.8365\n",
      "Epoch 34/100\n",
      "8000/8000 [==============================] - 1s 117us/step - loss: 0.3942 - acc: 0.8371\n",
      "Epoch 35/100\n",
      "8000/8000 [==============================] - 1s 123us/step - loss: 0.3938 - acc: 0.8357\n",
      "Epoch 36/100\n",
      "8000/8000 [==============================] - 1s 118us/step - loss: 0.3935 - acc: 0.8376\n",
      "Epoch 37/100\n",
      "8000/8000 [==============================] - 1s 120us/step - loss: 0.3936 - acc: 0.8350\n",
      "Epoch 38/100\n",
      "8000/8000 [==============================] - 1s 113us/step - loss: 0.3932 - acc: 0.8375\n",
      "Epoch 39/100\n",
      "8000/8000 [==============================] - 1s 122us/step - loss: 0.3931 - acc: 0.8377\n",
      "Epoch 40/100\n",
      "8000/8000 [==============================] - 1s 115us/step - loss: 0.3926 - acc: 0.8377\n",
      "Epoch 41/100\n",
      "8000/8000 [==============================] - 1s 115us/step - loss: 0.3925 - acc: 0.8386\n",
      "Epoch 42/100\n",
      "8000/8000 [==============================] - 1s 113us/step - loss: 0.3919 - acc: 0.8385\n",
      "Epoch 43/100\n",
      "8000/8000 [==============================] - 1s 111us/step - loss: 0.3909 - acc: 0.8379\n",
      "Epoch 44/100\n",
      "8000/8000 [==============================] - 1s 112us/step - loss: 0.3902 - acc: 0.8382\n",
      "Epoch 45/100\n",
      "8000/8000 [==============================] - 1s 111us/step - loss: 0.3885 - acc: 0.8397\n",
      "Epoch 46/100\n",
      "8000/8000 [==============================] - 1s 112us/step - loss: 0.3855 - acc: 0.8411\n",
      "Epoch 47/100\n",
      "8000/8000 [==============================] - 1s 115us/step - loss: 0.3822 - acc: 0.8419\n",
      "Epoch 48/100\n",
      "8000/8000 [==============================] - 1s 115us/step - loss: 0.3795 - acc: 0.8406\n",
      "Epoch 49/100\n",
      "8000/8000 [==============================] - 1s 112us/step - loss: 0.3767 - acc: 0.8444\n",
      "Epoch 50/100\n",
      "8000/8000 [==============================] - 1s 111us/step - loss: 0.3721 - acc: 0.8415\n",
      "Epoch 51/100\n",
      "8000/8000 [==============================] - 1s 114us/step - loss: 0.3699 - acc: 0.8434\n",
      "Epoch 52/100\n",
      "8000/8000 [==============================] - 1s 114us/step - loss: 0.3673 - acc: 0.8425\n",
      "Epoch 53/100\n",
      "8000/8000 [==============================] - 1s 113us/step - loss: 0.3654 - acc: 0.8475\n",
      "Epoch 54/100\n",
      "8000/8000 [==============================] - 1s 110us/step - loss: 0.3626 - acc: 0.8506\n",
      "Epoch 55/100\n",
      "8000/8000 [==============================] - 1s 110us/step - loss: 0.3599 - acc: 0.8527\n",
      "Epoch 56/100\n",
      "8000/8000 [==============================] - 1s 110us/step - loss: 0.3573 - acc: 0.8525\n",
      "Epoch 57/100\n",
      "8000/8000 [==============================] - 1s 110us/step - loss: 0.3555 - acc: 0.8545\n",
      "Epoch 58/100\n",
      "8000/8000 [==============================] - 1s 110us/step - loss: 0.3530 - acc: 0.8557\n",
      "Epoch 59/100\n",
      "8000/8000 [==============================] - 1s 111us/step - loss: 0.3514 - acc: 0.8547\n",
      "Epoch 60/100\n",
      "8000/8000 [==============================] - 1s 110us/step - loss: 0.3515 - acc: 0.8556\n",
      "Epoch 61/100\n",
      "8000/8000 [==============================] - 1s 109us/step - loss: 0.3500 - acc: 0.8557\n",
      "Epoch 62/100\n",
      "8000/8000 [==============================] - 1s 110us/step - loss: 0.3507 - acc: 0.8539\n",
      "Epoch 63/100\n",
      "8000/8000 [==============================] - 1s 110us/step - loss: 0.3493 - acc: 0.8544\n",
      "Epoch 64/100\n",
      "8000/8000 [==============================] - 1s 111us/step - loss: 0.3493 - acc: 0.8569\n",
      "Epoch 65/100\n",
      "8000/8000 [==============================] - 1s 110us/step - loss: 0.3484 - acc: 0.8561\n",
      "Epoch 66/100\n",
      "8000/8000 [==============================] - 1s 109us/step - loss: 0.3478 - acc: 0.8579\n",
      "Epoch 67/100\n",
      "8000/8000 [==============================] - 1s 109us/step - loss: 0.3484 - acc: 0.8559\n",
      "Epoch 68/100\n",
      "8000/8000 [==============================] - 1s 111us/step - loss: 0.3469 - acc: 0.8580\n",
      "Epoch 69/100\n",
      "8000/8000 [==============================] - 1s 110us/step - loss: 0.3475 - acc: 0.8579\n",
      "Epoch 70/100\n",
      "8000/8000 [==============================] - 1s 110us/step - loss: 0.3470 - acc: 0.8566\n",
      "Epoch 71/100\n",
      "8000/8000 [==============================] - 1s 110us/step - loss: 0.3470 - acc: 0.8581\n",
      "Epoch 72/100\n",
      "8000/8000 [==============================] - 1s 111us/step - loss: 0.3467 - acc: 0.8585\n",
      "Epoch 73/100\n",
      "8000/8000 [==============================] - 1s 116us/step - loss: 0.3465 - acc: 0.8572\n",
      "Epoch 74/100\n",
      "8000/8000 [==============================] - 1s 116us/step - loss: 0.3457 - acc: 0.8581\n",
      "Epoch 75/100\n",
      "8000/8000 [==============================] - 1s 113us/step - loss: 0.3461 - acc: 0.8595\n",
      "Epoch 76/100\n",
      "8000/8000 [==============================] - 1s 117us/step - loss: 0.3456 - acc: 0.8587\n",
      "Epoch 77/100\n",
      "8000/8000 [==============================] - 1s 117us/step - loss: 0.3444 - acc: 0.8586\n",
      "Epoch 78/100\n",
      "8000/8000 [==============================] - 1s 132us/step - loss: 0.3462 - acc: 0.8585\n",
      "Epoch 79/100\n",
      "8000/8000 [==============================] - 1s 118us/step - loss: 0.3462 - acc: 0.8596\n",
      "Epoch 80/100\n",
      "8000/8000 [==============================] - 1s 115us/step - loss: 0.3451 - acc: 0.8572\n",
      "Epoch 81/100\n",
      "8000/8000 [==============================] - 1s 112us/step - loss: 0.3453 - acc: 0.8601\n",
      "Epoch 82/100\n"
     ]
    },
    {
     "name": "stdout",
     "output_type": "stream",
     "text": [
      "8000/8000 [==============================] - 1s 116us/step - loss: 0.3444 - acc: 0.8611\n",
      "Epoch 83/100\n",
      "8000/8000 [==============================] - 1s 118us/step - loss: 0.3450 - acc: 0.8601\n",
      "Epoch 84/100\n",
      "8000/8000 [==============================] - 1s 113us/step - loss: 0.3455 - acc: 0.8551\n",
      "Epoch 85/100\n",
      "8000/8000 [==============================] - 1s 120us/step - loss: 0.3446 - acc: 0.8614\n",
      "Epoch 86/100\n",
      "8000/8000 [==============================] - 1s 121us/step - loss: 0.3453 - acc: 0.8595\n",
      "Epoch 87/100\n",
      "8000/8000 [==============================] - 1s 111us/step - loss: 0.3448 - acc: 0.8594\n",
      "Epoch 88/100\n",
      "8000/8000 [==============================] - 1s 116us/step - loss: 0.3439 - acc: 0.8574\n",
      "Epoch 89/100\n",
      "8000/8000 [==============================] - 1s 111us/step - loss: 0.3452 - acc: 0.8604\n",
      "Epoch 90/100\n",
      "8000/8000 [==============================] - 1s 110us/step - loss: 0.3447 - acc: 0.8590\n",
      "Epoch 91/100\n",
      "8000/8000 [==============================] - 1s 110us/step - loss: 0.3442 - acc: 0.8606\n",
      "Epoch 92/100\n",
      "8000/8000 [==============================] - 1s 111us/step - loss: 0.3438 - acc: 0.8589\n",
      "Epoch 93/100\n",
      "8000/8000 [==============================] - 1s 109us/step - loss: 0.3435 - acc: 0.8596\n",
      "Epoch 94/100\n",
      "8000/8000 [==============================] - 1s 111us/step - loss: 0.3437 - acc: 0.8599\n",
      "Epoch 95/100\n",
      "8000/8000 [==============================] - 1s 114us/step - loss: 0.3446 - acc: 0.8586\n",
      "Epoch 96/100\n",
      "8000/8000 [==============================] - 1s 113us/step - loss: 0.3449 - acc: 0.8592\n",
      "Epoch 97/100\n",
      "8000/8000 [==============================] - 1s 112us/step - loss: 0.3440 - acc: 0.8577\n",
      "Epoch 98/100\n",
      "8000/8000 [==============================] - 1s 110us/step - loss: 0.3434 - acc: 0.8585\n",
      "Epoch 99/100\n",
      "8000/8000 [==============================] - 1s 109us/step - loss: 0.3436 - acc: 0.8575\n",
      "Epoch 100/100\n",
      "8000/8000 [==============================] - 1s 110us/step - loss: 0.3441 - acc: 0.8582\n"
     ]
    },
    {
     "data": {
      "text/plain": [
       "<tensorflow.python.keras.callbacks.History at 0x12fa40358>"
      ]
     },
     "execution_count": 29,
     "metadata": {},
     "output_type": "execute_result"
    }
   ],
   "source": [
    "model.fit(X_train, y_train, batch_size=10, epochs=100)"
   ]
  },
  {
   "cell_type": "code",
   "execution_count": 48,
   "metadata": {},
   "outputs": [],
   "source": [
    "y_pred = model.predict(X_test)\n",
    "y_pred = (y_pred > 0.5)"
   ]
  },
  {
   "cell_type": "code",
   "execution_count": 31,
   "metadata": {},
   "outputs": [],
   "source": [
    "from sklearn.metrics import confusion_matrix"
   ]
  },
  {
   "cell_type": "code",
   "execution_count": 51,
   "metadata": {},
   "outputs": [],
   "source": [
    "cm = confusion_matrix(y_test.astype(np.float32), y_pred.flatten())"
   ]
  },
  {
   "cell_type": "code",
   "execution_count": 52,
   "metadata": {},
   "outputs": [
    {
     "data": {
      "text/plain": [
       "array([[1495,  100],\n",
       "       [ 189,  216]])"
      ]
     },
     "execution_count": 52,
     "metadata": {},
     "output_type": "execute_result"
    }
   ],
   "source": [
    "cm"
   ]
  },
  {
   "cell_type": "code",
   "execution_count": 55,
   "metadata": {},
   "outputs": [
    {
     "name": "stdout",
     "output_type": "stream",
     "text": [
      "Accuracy = 0.8555\n"
     ]
    }
   ],
   "source": [
    "print('Accuracy = {}'.format((cm[0, 0] + cm[1, 1]) / len(y_pred)))"
   ]
  },
  {
   "cell_type": "code",
   "execution_count": null,
   "metadata": {},
   "outputs": [],
   "source": []
  }
 ],
 "metadata": {
  "kernelspec": {
   "display_name": "Python 3",
   "language": "python",
   "name": "python3"
  },
  "language_info": {
   "codemirror_mode": {
    "name": "ipython",
    "version": 3
   },
   "file_extension": ".py",
   "mimetype": "text/x-python",
   "name": "python",
   "nbconvert_exporter": "python",
   "pygments_lexer": "ipython3",
   "version": "3.7.2"
  }
 },
 "nbformat": 4,
 "nbformat_minor": 2
}
