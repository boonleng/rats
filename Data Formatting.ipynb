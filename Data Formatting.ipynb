{
 "cells": [
  {
   "cell_type": "code",
   "execution_count": 1,
   "metadata": {},
   "outputs": [],
   "source": [
    "import numpy as np\n",
    "import pandas as pd\n",
    "from sklearn.compose import ColumnTransformer\n",
    "from sklearn.preprocessing import LabelEncoder, OneHotEncoder, StandardScaler\n",
    "from sklearn.model_selection import train_test_split"
   ]
  },
  {
   "cell_type": "code",
   "execution_count": 2,
   "metadata": {},
   "outputs": [],
   "source": [
    "# Importing the dataset\n",
    "dataset = pd.read_csv('blob/Churn_Modelling.csv')\n",
    "Xo = dataset.iloc[:, 3:13].values\n",
    "y = dataset.iloc[:, 13].values\n",
    "\n",
    "# Encoding categorical data\n",
    "\n",
    "# Country is in 2nd column (1). Turn that into 2nd + 3rd columns (1, 2)\n",
    "country_onehot = ColumnTransformer([(\"dummy_col\", OneHotEncoder(categories=[['France', 'Spain', 'Germany']]), [1])])\n",
    "xx = country_onehot.fit_transform(Xo)\n",
    "X = np.insert(Xo, 2, 0, axis=1)\n",
    "X[:, 1:3] = xx[:, 1:3]\n",
    "\n",
    "# Gender is now at 4th column\n",
    "labelencoder_gender = LabelEncoder()\n",
    "X[:, 3] = labelencoder_gender.fit_transform(X[:, 3])\n",
    "\n",
    "# Convert into float array\n",
    "X = X.astype(np.float64)\n",
    "\n",
    "# Splitting the dataset into the Training set and Test set\n",
    "X_train, X_test, y_train, y_test = train_test_split(X, y, test_size = 0.2, random_state = 0)\n",
    "\n",
    "# Feature Scaling\n",
    "sc = StandardScaler()\n",
    "X_train = sc.fit_transform(X_train)\n",
    "X_test = sc.transform(X_test)"
   ]
  },
  {
   "cell_type": "code",
   "execution_count": null,
   "metadata": {},
   "outputs": [],
   "source": []
  }
 ],
 "metadata": {
  "kernelspec": {
   "display_name": "Python 3",
   "language": "python",
   "name": "python3"
  },
  "language_info": {
   "codemirror_mode": {
    "name": "ipython",
    "version": 3
   },
   "file_extension": ".py",
   "mimetype": "text/x-python",
   "name": "python",
   "nbconvert_exporter": "python",
   "pygments_lexer": "ipython3",
   "version": "3.7.2"
  }
 },
 "nbformat": 4,
 "nbformat_minor": 2
}
